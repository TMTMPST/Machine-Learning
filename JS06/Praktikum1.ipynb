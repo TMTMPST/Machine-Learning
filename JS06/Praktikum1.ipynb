{
 "cells": [
  {
   "cell_type": "code",
   "execution_count": 4,
   "id": "fbcb9ec4",
   "metadata": {},
   "outputs": [
    {
     "name": "stdout",
     "output_type": "stream",
     "text": [
      "Exact NN index: [64040 64186 88792]\n",
      "Exact NN jarak: [0.         0.15797867 0.25332711]\n",
      "Waktu Exact: 12.5062 ms\n",
      "\n",
      "Annoy NN index: [65999, 7452, 41684]\n",
      "Annoy NN jarak: [np.float64(23.291678132657662), np.float64(24.316939817614458), np.float64(52.6442868377839)]\n",
      "Waktu Annoy: 0.0 ms\n"
     ]
    },
    {
     "data": {
      "image/png": "[encoded data removed]",
      "text/plain": [
       "<Figure size 600x600 with 1 Axes>"
      ]
     },
     "metadata": {},
     "output_type": "display_data"
    }
   ],
   "source": [
    "import numpy as np\n",
    "import matplotlib.pyplot as plt\n",
    "import time\n",
    "\n",
    "from annoy import AnnoyIndex\n",
    "\n",
    "TREES = 3\n",
    "\n",
    "# 1. Dataset 2D\n",
    "np.random.seed(42)\n",
    "n_points = 100000\n",
    "X = np.random.rand(n_points, 2) * 100  # titik random dalam ruang 100x100\n",
    "\n",
    "# Query point (ambil salah satu titik random)\n",
    "query = X[np.random.randint(0, n_points)]\n",
    "\n",
    "# 2. Exact NN (brute force)\n",
    "start = time.time()\n",
    "distances = np.linalg.norm(X - query, axis=1)\n",
    "idx_exact = np.argsort(distances)[:3]  # ambil 3 terdekat\n",
    "time_exact = time.time() - start\n",
    "\n",
    "print(\"Exact NN index:\", idx_exact)\n",
    "print(\"Exact NN jarak:\", distances[idx_exact])\n",
    "print(\"Waktu Exact:\", round(time_exact*1000, 4), \"ms\")\n",
    "\n",
    "# 3. Annoy NN\n",
    "f = 2  # dimensi\n",
    "t = AnnoyIndex(f, 'angular')\n",
    "for i, vec in enumerate(X):\n",
    "    t.add_item(i, vec)\n",
    "\n",
    "t.build(TREES)  # gunakan jumlah tree dari variabel\n",
    "\n",
    "start = time.time()\n",
    "idx_ann = t.get_nns_by_vector(query, 3)  # cari 3 NN\n",
    "time_ann = time.time() - start\n",
    "\n",
    "print(\"\\nAnnoy NN index:\", idx_ann)\n",
    "print(\"Annoy NN jarak:\", [np.linalg.norm(X[i]-query) for i in idx_ann])\n",
    "print(\"Waktu Annoy:\", round(time_ann*1000, 4), \"ms\")\n",
    "\n",
    "# 4. Visualisasi hasil\n",
    "plt.figure(figsize=(6,6))\n",
    "plt.scatter(X[:,0], X[:,1], c=\"lightgray\", s=20, label=\"Dataset\")\n",
    "plt.scatter(query[0], query[1], c=\"red\", marker=\"x\", s=100, label=\"Query\")\n",
    "\n",
    "# Exact NN ditandai biru\n",
    "plt.scatter(X[idx_exact,0], X[idx_exact,1], c=\"blue\", s=80, label=\"Exact NN\")\n",
    "\n",
    "# Annoy NN ditandai hijau\n",
    "plt.scatter(X[idx_ann,0], X[idx_ann,1], c=\"green\", s=50, marker=\"s\", label=\"Annoy NN\")\n",
    "\n",
    "plt.legend()\n",
    "plt.title(f\"Exact NN vs Annoy NN ({TREES} trees)\")\n",
    "plt.show()"
   ]
  },
  {
   "cell_type": "code",
   "execution_count": 6,
   "id": "8af90e34",
   "metadata": {},
   "outputs": [
    {
     "name": "stdout",
     "output_type": "stream",
     "text": [
      "Exact NN result: [ 55628 908566 946091 686921 585882]\n",
      "Exact NN time: 0.094 seconds\n",
      "Annoy result: [822743, 369993, 850266, 33152, 846455]\n",
      "Annoy time: 0.0 seconds\n"
     ]
    }
   ],
   "source": [
    "import numpy as np\n",
    "import time\n",
    "from sklearn.metrics.pairwise import euclidean_distances\n",
    "from annoy import AnnoyIndex\n",
    "\n",
    "# ---- 1. Buat dataset mirip Spotify ----\n",
    "n_tracks = 1_000_000   # 50 juta track\n",
    "n_features = 20        # contoh: danceability, energy, tempo, dll.\n",
    "\n",
    "# dataset besar (random untuk simulasi)\n",
    "X = np.random.rand(n_tracks, n_features).astype(np.float32)\n",
    "\n",
    "# query track (misalnya lagu baru)\n",
    "query = np.random.rand(1, n_features).astype(np.float32)\n",
    "\n",
    "# ---- 2. Exact NN (brute force) ----\n",
    "start = time.time()\n",
    "distances = euclidean_distances(query, X)[0]   # hitung semua jarak\n",
    "exact_idx = np.argsort(distances)[:5]          # ambil 5 terdekat\n",
    "exact_time = time.time() - start\n",
    "\n",
    "print(\"Exact NN result:\", exact_idx)\n",
    "print(\"Exact NN time:\", round(exact_time, 3), \"seconds\")\n",
    "\n",
    "# ---- 3. Approx NN pakai Annoy ----\n",
    "f = n_features\n",
    "annoy_index = AnnoyIndex(f, 'angular')\n",
    "n_trees = 8\n",
    "\n",
    "# build index\n",
    "for i in range(n_tracks):\n",
    "    annoy_index.add_item(i, X[i])\n",
    "annoy_index.build(n_trees)\n",
    "\n",
    "start = time.time()\n",
    "annoy_idx = annoy_index.get_nns_by_vector(query[0], 5)  # ambil 5 lagu yang mirip\n",
    "annoy_time = time.time() - start\n",
    "\n",
    "print(\"Annoy result:\", annoy_idx)\n",
    "print(\"Annoy time:\", round(annoy_time, 3), \"seconds\")"
   ]
  }
 ],
 "metadata": {
  "kernelspec": {
   "display_name": "venv",
   "language": "python",
   "name": "python3"
  },
  "language_info": {
   "codemirror_mode": {
    "name": "ipython",
    "version": 3
   },
   "file_extension": ".py",
   "mimetype": "text/x-python",
   "name": "python",
   "nbconvert_exporter": "python",
   "pygments_lexer": "ipython3",
   "version": "3.12.10"
  }
 },
 "nbformat": 4,
 "nbformat_minor": 5
}
